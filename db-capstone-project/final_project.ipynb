{
 "cells": [
  {
   "cell_type": "code",
   "execution_count": 10,
   "id": "19515610-9c63-4de1-a931-1a08efa7b04e",
   "metadata": {},
   "outputs": [
    {
     "name": "stdout",
     "output_type": "stream",
     "text": [
      "Requirement already satisfied: mysql-connector-python in c:\\users\\moham\\appdata\\local\\packages\\pythonsoftwarefoundation.python.3.11_qbz5n2kfra8p0\\localcache\\local-packages\\python311\\site-packages (8.2.0)\n",
      "Requirement already satisfied: protobuf<=4.21.12,>=4.21.1 in c:\\users\\moham\\appdata\\local\\packages\\pythonsoftwarefoundation.python.3.11_qbz5n2kfra8p0\\localcache\\local-packages\\python311\\site-packages (from mysql-connector-python) (4.21.12)\n",
      "Note: you may need to restart the kernel to use updated packages.\n"
     ]
    }
   ],
   "source": [
    "pip install mysql-connector-python"
   ]
  },
  {
   "cell_type": "code",
   "execution_count": 11,
   "id": "5b943125-b22e-4f6f-886a-4b5404bb22da",
   "metadata": {},
   "outputs": [],
   "source": [
    "import mysql.connector as connector"
   ]
  },
  {
   "cell_type": "code",
   "execution_count": 12,
   "id": "ad3c3fcc-2b0b-4c82-a65f-a7faf2bdbea5",
   "metadata": {},
   "outputs": [],
   "source": [
    "connection = connector.connect(user = \"admin1\", password = \"*********\", db = \"littlelemondm\")"
   ]
  },
  {
   "cell_type": "code",
   "execution_count": 13,
   "id": "39de285a-35a5-4ce8-85f3-674ed7a8ed10",
   "metadata": {},
   "outputs": [],
   "source": [
    "cursor = connection.cursor()"
   ]
  },
  {
   "cell_type": "code",
   "execution_count": 14,
   "id": "88c7a209-6e3d-4b00-bfe3-2c3109d4f149",
   "metadata": {},
   "outputs": [],
   "source": [
    "show_tables_query = \"SHOW tables\" \n",
    "cursor.execute(show_tables_query)"
   ]
  },
  {
   "cell_type": "code",
   "execution_count": 15,
   "id": "ace8dcb5-8b1c-45ae-8694-a6e6c7596dc3",
   "metadata": {},
   "outputs": [
    {
     "name": "stdout",
     "output_type": "stream",
     "text": [
      "Tables:\n",
      "(' lowest_cost_amount',)\n",
      "('bookings',)\n",
      "('customers',)\n",
      "('employees',)\n",
      "('menu_item',)\n",
      "('menuitems',)\n",
      "('menus',)\n",
      "('orders',)\n",
      "('ordersview',)\n"
     ]
    }
   ],
   "source": [
    "tables = cursor.fetchall()\n",
    "\n",
    "# Display the results\n",
    "print(\"Tables:\")\n",
    "for table in tables:\n",
    "    print(table)"
   ]
  },
  {
   "cell_type": "code",
   "execution_count": 17,
   "id": "cc089f27-658a-4f6e-aad7-c19b67ea0ea4",
   "metadata": {},
   "outputs": [
    {
     "name": "stdout",
     "output_type": "stream",
     "text": [
      "['Guest ID', 'Guest Full name', 'Guest Contact Number', 'Guest Email', 'Guest total cost']\n",
      "(2, 'Joakim Iversen', 1025951, 'kbk@zzx.com', Decimal('143'))\n",
      "(1, 'Anna Iversen', 1234564, 'mnn@fgf.com', Decimal('105'))\n",
      "(5, 'Hiroki Yamane', 1389476, 'rrdtdrv@bkh.com', Decimal('66'))\n"
     ]
    }
   ],
   "source": [
    "cutomer_query = \"\"\"\n",
    "SELECT\n",
    "    Customers.CustomerID as \"Guest ID\",\n",
    "    CONCAT(Customers.GuestFirstName, \" \", Customers.GuestLastName) as \"Guest Full name\",\n",
    "    Customers.ContactNumber as \"Guest Contact Number\",\n",
    "    Customers.Email as \"Guest Email\",\n",
    "    SUM(Orders.BillAmount) as \"Guest total cost\"\n",
    "FROM\n",
    "    Customers\n",
    "INNER JOIN\n",
    "    Orders ON Customers.CustomerID = Orders.CustomerID\n",
    "\n",
    "GROUP BY\n",
    "    Customers.CustomerID\n",
    "HAVING\n",
    "     SUM(Orders.BillAmount) > 60 ;    \n",
    "\"\"\"\n",
    "\n",
    "# Execute the updated query\n",
    "cursor.execute(cutomer_query)\n",
    "\n",
    "# Fetch the updated results\n",
    "results = cursor.fetchall()\n",
    "\n",
    "# Display column names\n",
    "columns = [col[0] for col in cursor.description]\n",
    "print(columns)\n",
    "\n",
    "# Display the updated results\n",
    "for row in results:\n",
    "    print(row)\n"
   ]
  },
  {
   "cell_type": "code",
   "execution_count": null,
   "id": "5870aee2-0bab-4ab1-b232-661218e9c543",
   "metadata": {},
   "outputs": [],
   "source": []
  }
 ],
 "metadata": {
  "kernelspec": {
   "display_name": "Python 3 (ipykernel)",
   "language": "python",
   "name": "python3"
  },
  "language_info": {
   "codemirror_mode": {
    "name": "ipython",
    "version": 3
   },
   "file_extension": ".py",
   "mimetype": "text/x-python",
   "name": "python",
   "nbconvert_exporter": "python",
   "pygments_lexer": "ipython3",
   "version": "3.11.8"
  }
 },
 "nbformat": 4,
 "nbformat_minor": 5
}
